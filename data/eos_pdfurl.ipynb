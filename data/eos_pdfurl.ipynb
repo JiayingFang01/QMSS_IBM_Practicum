{
 "cells": [
  {
   "cell_type": "markdown",
   "metadata": {},
   "source": [
    "# Exeuctive Orders Raw Text\n",
    "## Extract based on pdf url"
   ]
  },
  {
   "cell_type": "markdown",
   "metadata": {},
   "source": [
    "## 0- Preparation"
   ]
  },
  {
   "cell_type": "code",
   "execution_count": null,
   "metadata": {},
   "outputs": [],
   "source": [
    "import pandas as pd\n",
    "import requests\n",
    "import os\n",
    "import io\n",
    "import PyPDF2\n"
   ]
  },
  {
   "cell_type": "code",
   "execution_count": null,
   "metadata": {
    "colab": {
     "base_uri": "https://localhost:8080/"
    },
    "id": "vzWMbuyvIkKP",
    "outputId": "5b633d05-6308-4e39-cbd1-b6bacbf636d6"
   },
   "outputs": [
    {
     "name": "stdout",
     "output_type": "stream",
     "text": [
      "Mounted at /content/drive\n"
     ]
    }
   ],
   "source": [
    "from google.colab import drive\n",
    "drive.mount('/content/drive')\n"
   ]
  },
  {
   "cell_type": "code",
   "execution_count": null,
   "metadata": {
    "colab": {
     "base_uri": "https://localhost:8080/"
    },
    "id": "uCU2MfwRHIOp",
    "outputId": "d8546ae2-4e5a-47a8-bd5f-8152379554c5"
   },
   "outputs": [
    {
     "name": "stdout",
     "output_type": "stream",
     "text": [
      "Requirement already satisfied: requests in /usr/local/lib/python3.10/dist-packages (2.32.3)\n",
      "Collecting PyPDF2\n",
      "  Downloading pypdf2-3.0.1-py3-none-any.whl.metadata (6.8 kB)\n",
      "Requirement already satisfied: pandas in /usr/local/lib/python3.10/dist-packages (2.2.2)\n",
      "Requirement already satisfied: charset-normalizer<4,>=2 in /usr/local/lib/python3.10/dist-packages (from requests) (3.3.2)\n",
      "Requirement already satisfied: idna<4,>=2.5 in /usr/local/lib/python3.10/dist-packages (from requests) (3.10)\n",
      "Requirement already satisfied: urllib3<3,>=1.21.1 in /usr/local/lib/python3.10/dist-packages (from requests) (2.2.3)\n",
      "Requirement already satisfied: certifi>=2017.4.17 in /usr/local/lib/python3.10/dist-packages (from requests) (2024.8.30)\n",
      "Requirement already satisfied: numpy>=1.22.4 in /usr/local/lib/python3.10/dist-packages (from pandas) (1.26.4)\n",
      "Requirement already satisfied: python-dateutil>=2.8.2 in /usr/local/lib/python3.10/dist-packages (from pandas) (2.8.2)\n",
      "Requirement already satisfied: pytz>=2020.1 in /usr/local/lib/python3.10/dist-packages (from pandas) (2024.2)\n",
      "Requirement already satisfied: tzdata>=2022.7 in /usr/local/lib/python3.10/dist-packages (from pandas) (2024.2)\n",
      "Requirement already satisfied: six>=1.5 in /usr/local/lib/python3.10/dist-packages (from python-dateutil>=2.8.2->pandas) (1.16.0)\n",
      "Downloading pypdf2-3.0.1-py3-none-any.whl (232 kB)\n",
      "\u001b[2K   \u001b[90m━━━━━━━━━━━━━━━━━━━━━━━━━━━━━━━━━━━━━━━━\u001b[0m \u001b[32m232.6/232.6 kB\u001b[0m \u001b[31m3.6 MB/s\u001b[0m eta \u001b[36m0:00:00\u001b[0m\n",
      "\u001b[?25hInstalling collected packages: PyPDF2\n",
      "Successfully installed PyPDF2-3.0.1\n"
     ]
    }
   ],
   "source": [
    "pip install requests PyPDF2 pandas\n"
   ]
  },
  {
   "cell_type": "markdown",
   "metadata": {},
   "source": [
    "## 1- Text Data Extraction"
   ]
  },
  {
   "cell_type": "code",
   "execution_count": null,
   "metadata": {},
   "outputs": [],
   "source": [
    "# Function to download and extract text from a PDF\n",
    "def scrape(url, folder_path):\n",
    "    try:\n",
    "        # Get the PDF filename from the URL\n",
    "        filename = url.split(\"/\")[-1]\n",
    "\n",
    "        # Send a GET request to download the PDF\n",
    "        response = requests.get(url)\n",
    "        response.raise_for_status()  # Ensure the request was successful\n",
    "\n",
    "        # Save the PDF to the specified folder in Google Drive\n",
    "        pdf_file_path = os.path.join(folder_path, filename)\n",
    "        with open(pdf_file_path, 'wb') as pdf_file:\n",
    "            pdf_file.write(response.content)\n",
    "\n",
    "        # Extract text using PyPDF2\n",
    "        text = ''\n",
    "        with io.BytesIO(response.content) as pdf_stream:\n",
    "            reader = PyPDF2.PdfReader(pdf_stream)\n",
    "            for page_num in range(len(reader.pages)):\n",
    "                page = reader.pages[page_num]\n",
    "                text += page.extract_text()  # Extract text from each page\n",
    "\n",
    "        return text\n",
    "    except Exception as e:\n",
    "        return f\"Error scraping {url}: {str(e)}\"\n",
    "    "
   ]
  },
  {
   "cell_type": "code",
   "execution_count": null,
   "metadata": {
    "colab": {
     "base_uri": "https://localhost:8080/"
    },
    "id": "x7w19U8yI3J7",
    "outputId": "1d02d93f-158a-4b99-d926-90d795c2aa7a"
   },
   "outputs": [
    {
     "name": "stdout",
     "output_type": "stream",
     "text": [
      "PDFs saved to Google Drive folder: /content/drive/My Drive/Executive Orders/\n",
      "Original CSV updated and renamed to: /content/drive/My Drive/Executive Orders/presidential_document_raw_text.csv\n"
     ]
    }
   ],
   "source": [
    "# Create a folder in Google Drive to store the PDFs\n",
    "folder_path = '/content/drive/My Drive/Executive Orders/'\n",
    "\n",
    "# Create the folder if it doesn't exist\n",
    "if not os.path.exists(folder_path):\n",
    "    os.makedirs(folder_path)\n",
    "\n",
    "# Load the dataset and select only the first 30 rows and the 'pdf_url' column\n",
    "csv_path = '/content/drive/MyDrive/documents_of_type_presidential_document_and_of_presidential_document_type_executive_order.csv'\n",
    "data = pd.read_csv(csv_path)\n",
    "\n",
    "# Select the first 30 rows of the 'pdf_url' column\n",
    "# for test\n",
    "# data_subset = data.head(50)\n",
    "\n",
    "# Apply the function to download, save, and extract PDF text for each URL\n",
    "# data_subset['pdf_text'] = data_subset['pdf_url'].apply(lambda url: scrape_and_save_pdf(url, folder_path))\n",
    "data['pdf_text'] = data['pdf_url'].apply(lambda url: scrape(url, folder_path))\n",
    "# Merge the new column back to the original dataframe\n",
    "# data.loc[data_subset.index, 'pdf_text'] = data_subset['pdf_text']\n",
    "data.loc[data.index, 'pdf_text'] = data['pdf_text']\n",
    "\n",
    "new_csv_path = '/content/drive/My Drive/Executive Orders/presidential_document_raw_text.csv'\n",
    "data.to_csv(new_csv_path, index=False)\n",
    "\n",
    "print(f\"PDFs saved to Google Drive folder: {folder_path}\")\n",
    "print(f\"Original CSV updated and renamed to: {new_csv_path}\")\n",
    "\n"
   ]
  }
 ],
 "metadata": {
  "colab": {
   "provenance": []
  },
  "kernelspec": {
   "display_name": "Python 3 (ipykernel)",
   "language": "python",
   "name": "python3"
  },
  "language_info": {
   "codemirror_mode": {
    "name": "ipython",
    "version": 3
   },
   "file_extension": ".py",
   "mimetype": "text/x-python",
   "name": "python",
   "nbconvert_exporter": "python",
   "pygments_lexer": "ipython3",
   "version": "3.11.4"
  }
 },
 "nbformat": 4,
 "nbformat_minor": 1
}
