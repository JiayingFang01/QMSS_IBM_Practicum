{
 "cells": [
  {
   "cell_type": "code",
   "execution_count": null,
   "metadata": {},
   "outputs": [],
   "source": [
    "import pandas as pd\n",
    "import matplotlib.pyplot as plt"
   ]
  },
  {
   "cell_type": "code",
   "execution_count": null,
   "metadata": {},
   "outputs": [],
   "source": [
    "big=pd.read_csv(\"biden.csv\")"
   ]
  },
  {
   "cell_type": "code",
   "execution_count": null,
   "metadata": {},
   "outputs": [],
   "source": [
    "import requests\n",
    "from bs4 import BeautifulSoup\n",
    "import pandas as pd\n",
    "\n",
    "def get_website_text(big, citation):\n",
    "    # Get the row corresponding to the citation\n",
    "    row = big[big['citation'] == citation]\n",
    "    \n",
    "    if row.empty:\n",
    "        return \"Citation not found in dataset.\"\n",
    "    \n",
    "    # Extract the URL from the 'html_url' column\n",
    "    html_url = row['html_url'].values[0]\n",
    "    \n",
    "    # Request the web page\n",
    "    try:\n",
    "        response = requests.get(html_url)\n",
    "        response.raise_for_status()  # Check if the request was successful\n",
    "    except requests.exceptions.RequestException as e:\n",
    "        return f\"Error fetching the URL: {e}\"\n",
    "    \n",
    "    # Parse the page content using BeautifulSoup\n",
    "    soup = BeautifulSoup(response.content, 'html.parser')\n",
    "    \n",
    "    # Extract the text from the page\n",
    "    text = soup.get_text(separator=' ', strip=True)\n",
    "    \n",
    "    return text\n",
    "\n",
    "# Example usage:\n",
    "# Assuming 'big' is your DataFrame with 'citation' and 'html_url' columns.\n",
    "citation = \"89 FR 15945\"\n",
    "result = get_website_text(big, citation)\n",
    "print(result)\n"
   ]
  }
 ],
 "metadata": {
  "language_info": {
   "name": "python"
  }
 },
 "nbformat": 4,
 "nbformat_minor": 2
}
